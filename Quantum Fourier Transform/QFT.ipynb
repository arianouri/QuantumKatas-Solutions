{
 "cells": [
  {
   "cell_type": "markdown",
   "metadata": {},
   "source": [
    "## QuantumKatas-Solutions (Aria Nouri --- 2021-10-27)"
   ]
  },
  {
   "cell_type": "markdown",
   "metadata": {},
   "source": [
    "## Quantum Fourier Transform\n",
    "\n",
    "The **\"QFT (Quantum Fourier Transform)\"** quantum kata is a series of exercises designed\n",
    "to teach you the basics of quantum Fourier transform (QFT). It covers implementing QFT and using\n",
    "it to perform simple state transformations.\n",
    "\n",
    "Each task is wrapped in one operation preceded by the description of the task.\n",
    "Your goal is to fill in the blank (marked with the `// ...` comments)\n",
    "with some Q# code that solves the task. To verify your answer, run the cell using Ctrl+Enter (⌘+Enter on macOS).\n",
    "\n",
    "Within each section, tasks are given in approximate order of increasing difficulty; \n",
    "harder ones are marked with asterisks."
   ]
  },
  {
   "cell_type": "markdown",
   "metadata": {},
   "source": [
    "## Part I. Implementing Quantum Fourier Transform\n",
    "\n",
    "This sequence of tasks uses the implementation of QFT described in Nielsen & Chuang.\n",
    "All numbers in this kata use big endian encoding: most significant bit of the number\n",
    " is stored in the first (leftmost) bit/qubit."
   ]
  },
  {
   "cell_type": "markdown",
   "metadata": {},
   "source": [
    "### Task 1.1. 1-qubit QFT\n",
    "\n",
    "**Input:** \n",
    "\n",
    "  A qubit in state $|\\psi\\rangle = x_0 |0\\rangle + x_1 |1\\rangle$.\n",
    "\n",
    "**Goal:**\n",
    "\n",
    "Apply QFT to this qubit, i.e., transform it to a state\n",
    "$\\frac{1}{\\sqrt{2}} \\big((x_0 + x_1) |0\\rangle + (x_0 - x_1) |1\\rangle\\big)$.\n",
    "\n",
    "In other words, transform a basis state $|j\\rangle$ into a state $\\frac{1}{\\sqrt{2}} \\big(|0\\rangle + e^{2\\pi i \\cdot \\frac{j}{2}}|1\\rangle\\big)$ .\n"
   ]
  },
  {
   "cell_type": "code",
   "execution_count": 4,
   "metadata": {},
   "outputs": [
    {
     "data": {
      "application/x-qsharp-data": "\"Success!\"",
      "text/plain": [
       "Success!"
      ]
     },
     "execution_count": 4,
     "metadata": {},
     "output_type": "execute_result"
    }
   ],
   "source": [
    "%kata T11_OneQubitQFT \n",
    "\n",
    "operation OneQubitQFT (q : Qubit) : Unit is Adj+Ctl {\n",
    "    H(q);\n",
    "}"
   ]
  },
  {
   "cell_type": "markdown",
   "metadata": {},
   "source": [
    "### Task 1.2. Rotation gate\n",
    "\n",
    "**Inputs:** \n",
    "\n",
    "  1. A qubit in state $|\\psi\\rangle = \\alpha |0\\rangle + \\beta |1\\rangle$.\n",
    "\n",
    "  2. An integer k $\\geq$ 0.\n",
    "\n",
    "**Goal:** \n",
    "\n",
    "Change the state of the qubit to $\\alpha |0\\rangle + \\beta \\cdot e^{\\frac{2\\pi i}{2^{k}}} |1\\rangle$.\n",
    "\n",
    "> Be careful about not introducing an extra global phase! \n",
    "This is going to be important in the later tasks."
   ]
  },
  {
   "cell_type": "code",
   "execution_count": 5,
   "metadata": {},
   "outputs": [
    {
     "data": {
      "application/x-qsharp-data": "\"Success!\"",
      "text/plain": [
       "Success!"
      ]
     },
     "execution_count": 5,
     "metadata": {},
     "output_type": "execute_result"
    }
   ],
   "source": [
    "%kata T12_Rotation \n",
    "\n",
    "open Microsoft.Quantum.Convert;\n",
    "open Microsoft.Quantum.Math;\n",
    "\n",
    "operation Rotation (q : Qubit, k : Int) : Unit is Adj+Ctl {\n",
    "    R1(2.0*PI()/IntAsDouble(PowI(2,k)),q);\n",
    "}"
   ]
  },
  {
   "cell_type": "markdown",
   "metadata": {},
   "source": [
    "### Task 1.3. Prepare binary fraction exponent (classical input)\n",
    "\n",
    "**Inputs:** \n",
    "\n",
    "  1. A qubit in state $|\\psi\\rangle = \\alpha |0\\rangle + \\beta |1\\rangle$.\n",
    "\n",
    "  2. An array of $n$ bits $[j_1, j_2, ..., j_n]$, stored as `Int[]` ($ j_k \\in \\{0,1\\}$).\n",
    "\n",
    "**Goal:** \n",
    "\n",
    "Change the state of the qubit to $\\alpha |0\\rangle + \\beta \\cdot e^{2\\pi i \\cdot 0.j_1 j_2 ... j_n} |1\\rangle$,\n",
    "where $0.j_1 j_2 ... j_n$ is a binary fraction, similar to decimal fractions: \n",
    "\n",
    "$$0.j_1 j_2 ... j_n = j_1 \\cdot \\frac{1}{2^1} + j_2 \\cdot \\frac{1}{2^2} + ... j_n \\cdot \\frac{1}{2^n}$$\n"
   ]
  },
  {
   "cell_type": "code",
   "execution_count": 6,
   "metadata": {},
   "outputs": [
    {
     "name": "stdout",
     "output_type": "stream",
     "text": [
      "1-bit 0 = [0]\n",
      "1-bit 1 = [1]\n",
      "2-bit 0 = [0,0]\n",
      "2-bit 1 = [0,1]\n",
      "2-bit 2 = [1,0]\n",
      "2-bit 3 = [1,1]\n",
      "3-bit 0 = [0,0,0]\n",
      "3-bit 1 = [0,0,1]\n",
      "3-bit 2 = [0,1,0]\n",
      "3-bit 3 = [0,1,1]\n",
      "3-bit 4 = [1,0,0]\n",
      "3-bit 5 = [1,0,1]\n",
      "3-bit 6 = [1,1,0]\n",
      "3-bit 7 = [1,1,1]\n",
      "4-bit 0 = [0,0,0,0]\n",
      "4-bit 1 = [0,0,0,1]\n",
      "4-bit 2 = [0,0,1,0]\n",
      "4-bit 3 = [0,0,1,1]\n",
      "4-bit 4 = [0,1,0,0]\n",
      "4-bit 5 = [0,1,0,1]\n",
      "4-bit 6 = [0,1,1,0]\n",
      "4-bit 7 = [0,1,1,1]\n",
      "4-bit 8 = [1,0,0,0]\n",
      "4-bit 9 = [1,0,0,1]\n",
      "4-bit 10 = [1,0,1,0]\n",
      "4-bit 11 = [1,0,1,1]\n",
      "4-bit 12 = [1,1,0,0]\n",
      "4-bit 13 = [1,1,0,1]\n",
      "4-bit 14 = [1,1,1,0]\n",
      "4-bit 15 = [1,1,1,1]\n",
      "5-bit 0 = [0,0,0,0,0]\n",
      "5-bit 1 = [0,0,0,0,1]\n",
      "5-bit 2 = [0,0,0,1,0]\n",
      "5-bit 3 = [0,0,0,1,1]\n",
      "5-bit 4 = [0,0,1,0,0]\n",
      "5-bit 5 = [0,0,1,0,1]\n",
      "5-bit 6 = [0,0,1,1,0]\n",
      "5-bit 7 = [0,0,1,1,1]\n",
      "5-bit 8 = [0,1,0,0,0]\n",
      "5-bit 9 = [0,1,0,0,1]\n",
      "5-bit 10 = [0,1,0,1,0]\n",
      "5-bit 11 = [0,1,0,1,1]\n",
      "5-bit 12 = [0,1,1,0,0]\n",
      "5-bit 13 = [0,1,1,0,1]\n",
      "5-bit 14 = [0,1,1,1,0]\n",
      "5-bit 15 = [0,1,1,1,1]\n",
      "5-bit 16 = [1,0,0,0,0]\n",
      "5-bit 17 = [1,0,0,0,1]\n",
      "5-bit 18 = [1,0,0,1,0]\n",
      "5-bit 19 = [1,0,0,1,1]\n",
      "5-bit 20 = [1,0,1,0,0]\n",
      "5-bit 21 = [1,0,1,0,1]\n",
      "5-bit 22 = [1,0,1,1,0]\n",
      "5-bit 23 = [1,0,1,1,1]\n",
      "5-bit 24 = [1,1,0,0,0]\n",
      "5-bit 25 = [1,1,0,0,1]\n",
      "5-bit 26 = [1,1,0,1,0]\n",
      "5-bit 27 = [1,1,0,1,1]\n",
      "5-bit 28 = [1,1,1,0,0]\n",
      "5-bit 29 = [1,1,1,0,1]\n",
      "5-bit 30 = [1,1,1,1,0]\n",
      "5-bit 31 = [1,1,1,1,1]\n"
     ]
    },
    {
     "data": {
      "application/x-qsharp-data": "\"Success!\"",
      "text/plain": [
       "Success!"
      ]
     },
     "execution_count": 6,
     "metadata": {},
     "output_type": "execute_result"
    }
   ],
   "source": [
    "%kata T13_BinaryFractionClassical \n",
    "\n",
    "open Microsoft.Quantum.Convert;\n",
    "open Microsoft.Quantum.Math;\n",
    "\n",
    "operation BinaryFractionClassical (q : Qubit, j : Int[]) : Unit is Adj+Ctl {\n",
    "    for index in 0 .. Length(j)-1{\n",
    "        R1(IntAsDouble(j[index])*2.0*PI()/IntAsDouble(PowI(2,index+1)),q);\n",
    "    }\n",
    "}"
   ]
  },
  {
   "cell_type": "markdown",
   "metadata": {},
   "source": [
    "### Task 1.4. Prepare binary fraction exponent (quantum input)\n",
    "\n",
    "**Inputs:** \n",
    "\n",
    "  1. A qubit in state $|\\psi\\rangle = \\alpha |0\\rangle + \\beta |1\\rangle$.\n",
    "\n",
    "  2. A register of $n$ qubits in state $|j_1 j_2 ... j_n\\rangle$.\n",
    "\n",
    "**Goal:** \n",
    "\n",
    "Change the state of the input\n",
    "from $(\\alpha |0\\rangle + \\beta |1\\rangle) \\otimes |j_1 j_2 ... j_n\\rangle$\n",
    "to $(\\alpha |0\\rangle + \\beta \\cdot e^{2\\pi i \\cdot 0.j_1 j_2 ... j_n} |1\\rangle) \\otimes |j_1 j_2 ... j_n\\rangle$,\n",
    "\n",
    "where $0.j_1 j_2 ... j_n$ is a binary fraction corresponding to the basis state $j_1 j_2 ... j_n$ of the register.\n",
    "\n",
    "> The register of qubits can be in superposition as well;\n",
    "the behavior in this case is defined by behavior on the basis states and the linearity of unitary transformations."
   ]
  },
  {
   "cell_type": "code",
   "execution_count": 7,
   "metadata": {},
   "outputs": [
    {
     "data": {
      "application/x-qsharp-data": "\"Success!\"",
      "text/plain": [
       "Success!"
      ]
     },
     "execution_count": 7,
     "metadata": {},
     "output_type": "execute_result"
    }
   ],
   "source": [
    "%kata T14_BinaryFractionQuantum \n",
    "\n",
    "operation BinaryFractionQuantum (q : Qubit, jRegister : Qubit[]) : Unit is Adj+Ctl {\n",
    "\n",
    "    for index in 0 .. Length(jRegister)-1{\n",
    "        Controlled R1([jRegister[index]],(2.0*PI()/IntAsDouble(PowI(2,index+1)),q));\n",
    "    }\n",
    "}"
   ]
  },
  {
   "cell_type": "markdown",
   "metadata": {},
   "source": [
    "### Task 1.5. Prepare binary fraction exponent in place (quantum input)\n",
    "\n",
    "**Input:** \n",
    "\n",
    " A register of $n$ qubits in state $|j_1 j_2 ... j_n \\rangle$.\n",
    "\n",
    "**Goal:** \n",
    "\n",
    "Change the state of the register\n",
    "from $|j_1\\rangle \\otimes |j_2 ... j_n\\rangle$\n",
    "to $\\frac{1}{\\sqrt{2}} \\big(|0\\rangle + e^{2\\pi i \\cdot 0.j_1 j_2 ... j_n} |1\\rangle \\big) \\otimes |j_2 ... j_n\\rangle$.\n",
    "\n",
    "> The register of qubits can be in superposition as well;\n",
    "the behavior in this case is defined by behavior on the basis states and the linearity of unitary transformations.\n",
    "\n",
    "<details>\n",
    "  <summary><b>Need a hint? Click here</b></summary>\n",
    "  This task is very similar to task 1.4, but the digit $j_1$ is encoded in-place, using task 1.1.\n",
    "</details>"
   ]
  },
  {
   "cell_type": "code",
   "execution_count": 8,
   "metadata": {},
   "outputs": [
    {
     "data": {
      "application/x-qsharp-data": "\"Success!\"",
      "text/plain": [
       "Success!"
      ]
     },
     "execution_count": 8,
     "metadata": {},
     "output_type": "execute_result"
    }
   ],
   "source": [
    "%kata T15_BinaryFractionQuantumInPlace \n",
    "\n",
    "operation BinaryFractionQuantumInPlace (register : Qubit[]) : Unit is Adj+Ctl {\n",
    "    H(register[0]);\n",
    "    for index in 1 .. Length(register)-1{\n",
    "        Controlled R1([register[index]],(2.0*PI()/IntAsDouble(PowI(2,index+1)),register[0]));\n",
    "    }\n",
    "}"
   ]
  },
  {
   "cell_type": "markdown",
   "metadata": {},
   "source": [
    "### Task 1.6. Reverse the order of qubits\n",
    "\n",
    "**Input:** \n",
    "\n",
    " A register of $n$ qubits in state $|x_1 x_2 ... x_n \\rangle$.\n",
    "\n",
    "**Goal:** \n",
    "\n",
    "Reverse the order of qubits, i.e., convert the state of the register to $|x_n ... x_2 x_1\\rangle$."
   ]
  },
  {
   "cell_type": "code",
   "execution_count": 9,
   "metadata": {},
   "outputs": [
    {
     "data": {
      "application/x-qsharp-data": "\"Success!\"",
      "text/plain": [
       "Success!"
      ]
     },
     "execution_count": 9,
     "metadata": {},
     "output_type": "execute_result"
    }
   ],
   "source": [
    "%kata T16_ReverseRegister \n",
    "\n",
    "operation ReverseRegister (register : Qubit[]) : Unit is Adj+Ctl {\n",
    "    for index in 0..Length(register)/2-1{\n",
    "        SWAP(register[index],register[Length(register)-1-index]);\n",
    "    }\n",
    "}"
   ]
  },
  {
   "cell_type": "markdown",
   "metadata": {},
   "source": [
    "### Task 1.7. Quantum Fourier transform\n",
    "\n",
    "**Input:** \n",
    "\n",
    " A register of $n$ qubits in state $|j_1 j_2 ... j_n \\rangle$.\n",
    "\n",
    "**Goal:** \n",
    "\n",
    "Apply quantum Fourier transform to the input register, i.e., transform it to a state\n",
    "\n",
    "$$\\frac{1}{\\sqrt{2^{n}}} \\sum_{k=0}^{2^n-1} e^{2\\pi i \\cdot \\frac{jk}{2^{n}}} |k\\rangle = $$\n",
    "$$\\begin{align}= &\\frac{1}{\\sqrt{2}} \\big(|0\\rangle + e^{2\\pi i \\cdot 0.j_n} |1\\rangle\\big) \\otimes \\\\\n",
    "\\otimes &\\frac{1}{\\sqrt{2}} \\big(|0\\rangle + e^{2\\pi i \\cdot 0.j_{n-1} j_n} |1\\rangle\\big) \\otimes ... \\otimes \\\\\n",
    "\\otimes &\\frac{1}{\\sqrt{2}} \\big(|0\\rangle + e^{2\\pi i \\cdot 0.j_1 j_2 ... j_{n-1} j_n} |1\\rangle\\big)\\end{align}$$\n",
    "\n",
    "> The register of qubits can be in superposition as well;\n",
    "the behavior in this case is defined by behavior on the basis states and the linearity of unitary transformations.\n",
    "\n",
    "> You can do this with a library call, but we recommend\n",
    "implementing the algorithm yourself for learning purposes, using the previous tasks.\n",
    "\n",
    "\n",
    "<details>\n",
    "  <summary><b>Need a hint? Click here</b></summary>\n",
    "Consider preparing a different state first and transforming it to the goal state:\n",
    "\n",
    "$\\frac{1}{\\sqrt{2}} \\big(|0\\rangle + exp(2\\pi i \\cdot 0.j_1 j_2 ... j_{n-1} j_n) |1\\rangle\\big) \\otimes ...\n",
    "\\otimes \\frac{1}{\\sqrt{2}} \\big(|0\\rangle + exp(2\\pi i \\cdot 0.j_{n-1} j_n) |1\\rangle\\big)\n",
    "\\otimes \\frac{1}{\\sqrt{2}} \\big(|0\\rangle + exp(2\\pi i \\cdot 0.j_n) |1\\rangle\\big)$\n",
    "</details>"
   ]
  },
  {
   "cell_type": "code",
   "execution_count": 10,
   "metadata": {},
   "outputs": [
    {
     "data": {
      "application/x-qsharp-data": "\"Success!\"",
      "text/plain": [
       "Success!"
      ]
     },
     "execution_count": 10,
     "metadata": {},
     "output_type": "execute_result"
    }
   ],
   "source": [
    "%kata T17_QuantumFourierTransform \n",
    "\n",
    "operation QuantumFourierTransform (register : Qubit[]) : Unit is Adj+Ctl {\n",
    "    for index in 0..Length(register)-1{\n",
    "        BinaryFractionQuantumInPlace(register[index..Length(register)-1]);\n",
    "    }\n",
    "    ReverseRegister(register);\n",
    "}"
   ]
  },
  {
   "cell_type": "markdown",
   "metadata": {},
   "source": [
    "### Task 1.8. Inverse QFT\n",
    "\n",
    "**Input:** \n",
    "\n",
    " A register of $n$ qubits in state $|j_1 j_2 ... j_n \\rangle$.\n",
    "\n",
    "**Goal:** \n",
    "\n",
    "Apply inverse QFT to the input register, i.e., transform it to a state \n",
    "$\\frac{1}{\\sqrt{2^{n}}} \\sum_{k=0}^{2^n-1} e^{-2\\pi i \\cdot \\frac{jk}{2^{n}}} |k\\rangle$.\n",
    "\n",
    "<details>\n",
    "  <summary><b>Need a hint? Click here</b></summary>\n",
    "Inverse QFT is literally the inverse transformation of QFT.\n",
    "Do you know a quantum way to express this?\n",
    "</details>"
   ]
  },
  {
   "cell_type": "code",
   "execution_count": 11,
   "metadata": {},
   "outputs": [
    {
     "data": {
      "application/x-qsharp-data": "\"Success!\"",
      "text/plain": [
       "Success!"
      ]
     },
     "execution_count": 11,
     "metadata": {},
     "output_type": "execute_result"
    }
   ],
   "source": [
    "%kata T18_InverseQFT \n",
    "\n",
    "operation InverseQFT (register : Qubit[]) : Unit is Adj+Ctl {\n",
    "    Adjoint QuantumFourierTransform(register);\n",
    "}"
   ]
  },
  {
   "cell_type": "markdown",
   "metadata": {},
   "source": [
    "## Part II. Using the Quantum Fourier Transform\n",
    "\n",
    "This section offers you tasks on state preparation and state analysis \n",
    "that can be solved using QFT (or inverse QFT). It is possible to solve them \n",
    "without QFT, but we recommend that you to try and come up with a QFT-based solution."
   ]
  },
  {
   "cell_type": "markdown",
   "metadata": {},
   "source": [
    "### Task 2.1. Prepare an equal superposition of all basis states\n",
    "\n",
    "**Input:** \n",
    "\n",
    "A register of $n$ qubits in state $|0...0\\rangle$.\n",
    "\n",
    "**Goal:** \n",
    "\n",
    "Prepare an equal superposition of all basis vectors from $|0...0\\rangle$ to $|1...1\\rangle$ \n",
    "(i.e., state $\\frac{1}{\\sqrt{2^{n}}} \\big(|0...0\\rangle + ... + |1...1\\rangle\\big)$."
   ]
  },
  {
   "cell_type": "code",
   "execution_count": 12,
   "metadata": {},
   "outputs": [
    {
     "data": {
      "application/x-qsharp-data": "\"Success!\"",
      "text/plain": [
       "Success!"
      ]
     },
     "execution_count": 12,
     "metadata": {},
     "output_type": "execute_result"
    }
   ],
   "source": [
    "%kata T21_PrepareEqualSuperposition \n",
    "\n",
    "operation PrepareEqualSuperposition (register : Qubit[]) : Unit is Adj+Ctl {\n",
    "    QuantumFourierTransform(register);\n",
    "}"
   ]
  },
  {
   "cell_type": "markdown",
   "metadata": {},
   "source": [
    "### Task 2.2. Prepare a periodic state\n",
    "\n",
    "**Inputs:**\n",
    "\n",
    "  1. A register of $n$ qubits in state $|0...0\\rangle$.\n",
    "\n",
    "  2. An integer frequency F ($0 \\leq F \\leq 2^{n}-1$).\n",
    "\n",
    "**Goal:**\n",
    "\n",
    "Prepare a periodic state with frequency F on this register:\n",
    "\n",
    "$$\\frac{1}{\\sqrt{2^{n}}} \\sum_k e^{2\\pi i \\cdot \\frac{Fk}{2^{n}}} |k\\rangle$$\n",
    "\n",
    "> For example, for $n = 2$ and $F = 1$ the goal state is $\\frac{1}{2}\\big(|0\\rangle + i|1\\rangle - |2\\rangle - i|3\\rangle\\big)$.\n",
    "\n",
    "> If you're using `DumpMachine` to debug your solution, \n",
    "remember that this kata uses big endian encoding of states,\n",
    "while `DumpMachine` uses little endian encoding.\n",
    "You can use [`%config` magic command](https://docs.microsoft.com/en-us/qsharp/api/iqsharp-magic/config) \n",
    "to reconfigure `DumpMachine` to use big endian encoding or bit strings.\n",
    "\n",
    "<details>\n",
    "  <summary><b>Need a hint? Click here</b></summary>\n",
    "Which basis state can be mapped to this state using QFT?\n",
    "</details>"
   ]
  },
  {
   "cell_type": "code",
   "execution_count": 13,
   "metadata": {},
   "outputs": [
    {
     "data": {
      "application/x-qsharp-data": "\"Success!\"",
      "text/plain": [
       "Success!"
      ]
     },
     "execution_count": 13,
     "metadata": {},
     "output_type": "execute_result"
    }
   ],
   "source": [
    "%kata T22_PreparePeriodicState \n",
    "open Microsoft.Quantum.Convert;\n",
    "open Microsoft.Quantum.Math;\n",
    "\n",
    "operation PreparePeriodicState (register : Qubit[], F : Int) : Unit is Adj+Ctl {\n",
    "    let F_arr=IntAsBoolArray(F,Length(register));\n",
    "    for index in 0..Length(register)-1{\n",
    "        if(F_arr[index]){    \n",
    "            X(register[Length(register)-1-index]);\n",
    "        }\n",
    "    }\n",
    "    QuantumFourierTransform(register);\n",
    "}"
   ]
  },
  {
   "cell_type": "markdown",
   "metadata": {},
   "source": [
    "### Task 2.3. Prepare a periodic state with alternating $1$ and $-1$ amplitudes\n",
    "\n",
    "**Input:**\n",
    "\n",
    "A register of $n$ qubits in state $|0...0\\rangle$.\n",
    "\n",
    "**Goal:**\n",
    "\n",
    "Prepare a periodic state with alternating $1$ and $-1$ amplitudes of basis states:\n",
    "\n",
    "$$\\frac{1}{\\sqrt{2^{n}}} \\big(|0\\rangle - |1\\rangle + |2\\rangle - |3\\rangle + ... - |2^{n}-1\\rangle\\big)$$\n",
    "\n",
    "> For example, for $n = 2$ the goal state is $\\frac{1}{2} \\big(|0\\rangle - |1\\rangle + |2\\rangle - |3\\rangle\\big)$.\n",
    "\n",
    "<details>\n",
    "  <summary><b>Need a hint? Click here</b></summary>\n",
    "Which basis state can be mapped to this state using QFT?  Which frequency would allow you to use task 2.2 here?\n",
    "</details>"
   ]
  },
  {
   "cell_type": "code",
   "execution_count": 14,
   "metadata": {},
   "outputs": [
    {
     "data": {
      "application/x-qsharp-data": "\"Success!\"",
      "text/plain": [
       "Success!"
      ]
     },
     "execution_count": 14,
     "metadata": {},
     "output_type": "execute_result"
    }
   ],
   "source": [
    "%kata T23_PrepareAlternatingState \n",
    "\n",
    "open Microsoft.Quantum.Arithmetic;\n",
    "\n",
    "operation PrepareAlternatingState (register : Qubit[]) : Unit is Adj+Ctl {\n",
    "    QuantumFourierTransform(register);\n",
    "    Z(register[Length(register)-1]);\n",
    "}"
   ]
  },
  {
   "cell_type": "markdown",
   "metadata": {},
   "source": [
    "### Task 2.4. Prepare an equal superposition of all even basis states\n",
    "\n",
    "**Input:** \n",
    "\n",
    "A register of $n$ qubits in state $|0...0\\rangle$.\n",
    "\n",
    "**Goal:** \n",
    "\n",
    "Prepare an equal superposition of all even basis vectors:\n",
    "$\\frac{1}{\\sqrt{2^{n-1}}} \\big(|0\\rangle + |2\\rangle + ... + |2^{n}-2\\rangle\\big)$.\n",
    "\n",
    "<details>\n",
    "  <summary><b>Need a hint? Click here</b></summary>\n",
    "Which superposition of two basis states can be mapped to this state using QFT?\n",
    "    Use the solutions to tasks 2.1 and 2.3 to figure out the answer.\n",
    "</details>"
   ]
  },
  {
   "cell_type": "code",
   "execution_count": 15,
   "metadata": {},
   "outputs": [
    {
     "data": {
      "application/x-qsharp-data": "\"Success!\"",
      "text/plain": [
       "Success!"
      ]
     },
     "execution_count": 15,
     "metadata": {},
     "output_type": "execute_result"
    }
   ],
   "source": [
    "%kata T24_PrepareEqualSuperpositionOfEvenStates \n",
    "\n",
    "operation PrepareEqualSuperpositionOfEvenStates (register : Qubit[]) : Unit is Adj+Ctl {\n",
    "    QuantumFourierTransform(register);\n",
    "    H(register[Length(register)-1]);\n",
    "}"
   ]
  },
  {
   "cell_type": "markdown",
   "metadata": {},
   "source": [
    "### Task 2.5. Prepare a square-wave signal\n",
    "\n",
    "**Input:** \n",
    "\n",
    "A register of $n\\geq2$ qubits in state $|0...0\\rangle$.\n",
    "\n",
    "**Goal:** \n",
    "\n",
    "Prepare a periodic state with alternating $1, 1, -1, -1$ amplitudes of basis states:\n",
    "$$\\frac{1}{\\sqrt{2^{n}}} \\big(|0\\rangle + |1\\rangle - |2\\rangle - |3\\rangle + ... - |2^{n}-2\\rangle - |2^{n}-1\\rangle\\big)$$\n",
    "\n",
    "<details>\n",
    "  <summary><b>Need a hint? Click here</b></summary>\n",
    "Which superposition of two basis states can be mapped to this state using QFT?\n",
    "    Remember that sum of two complex amplitudes can be a real number if their imaginary parts cancel out.\n",
    "</details>"
   ]
  },
  {
   "cell_type": "code",
   "execution_count": 16,
   "metadata": {},
   "outputs": [
    {
     "data": {
      "application/x-qsharp-data": "\"Success!\"",
      "text/plain": [
       "Success!"
      ]
     },
     "execution_count": 16,
     "metadata": {},
     "output_type": "execute_result"
    }
   ],
   "source": [
    "%kata T25_PrepareSquareWaveSignal \n",
    "\n",
    "operation PrepareSquareWaveSignal (register : Qubit[]) : Unit is Adj+Ctl {\n",
    "    QuantumFourierTransform(register);\n",
    "    Z(register[Length(register)-2]);\n",
    "}"
   ]
  },
  {
   "cell_type": "markdown",
   "metadata": {},
   "source": [
    "### Task 2.6. Get the frequency of a signal\n",
    "\n",
    "**Input:** \n",
    "\n",
    "A register of $n\\geq2$ qubits in state \n",
    "$\\frac{1}{\\sqrt{2^{n}}} \\sum_k e^{2\\pi i \\cdot \\frac{Fk}{2^{n}}} |k\\rangle$, $0\\leq F\\leq 2^{n}-1$.\n",
    "\n",
    "**Goal:** \n",
    "\n",
    "Return the frequency F of the \"signal\" encoded in this state."
   ]
  },
  {
   "cell_type": "code",
   "execution_count": 17,
   "metadata": {},
   "outputs": [
    {
     "data": {
      "application/x-qsharp-data": "\"Success!\"",
      "text/plain": [
       "Success!"
      ]
     },
     "execution_count": 17,
     "metadata": {},
     "output_type": "execute_result"
    }
   ],
   "source": [
    "%kata T26_Frequency \n",
    "\n",
    "open Microsoft.Quantum.Arithmetic;\n",
    "\n",
    "operation Frequency (register : Qubit[]) : Int {\n",
    "    Adjoint QuantumFourierTransform(register);\n",
    "    return MeasureInteger(BigEndianAsLittleEndian(BigEndian(register)));\n",
    "}"
   ]
  },
  {
   "cell_type": "markdown",
   "metadata": {},
   "source": [
    "## Part III. Powers and roots of the QFT"
   ]
  },
  {
   "cell_type": "markdown",
   "metadata": {},
   "source": [
    "### Task 3.1 Implement powers of the QFT\n",
    "    \n",
    "**Inputs:** \n",
    "\n",
    "  1. A register of $n$ qubits in an arbitrary state.\n",
    "\n",
    "  2. An integer $P$ ($ 0 \\leq P \\leq 2^{20} - 1 $).\n",
    "    \n",
    "\n",
    "**Goal:** \n",
    "\n",
    "Transform state $|x\\rangle$ into state $ QFT^{P} |x\\rangle$, where $QFT$ is the quantum Fourier transform implemented in part I.\n",
    "\n",
    "**Note:**\n",
    "\n",
    "Your solution has to run fast for any $P$ in the given range!"
   ]
  },
  {
   "cell_type": "markdown",
   "metadata": {},
   "source": [
    "### Solution (from QFT Workbook)\n",
    "\n",
    "Let $QFT_{2^n} = \\frac{1}{\\sqrt{2^n}}[\\omega_{2^n}^{k \\ell}]_{k,\\ell=0,\\ldots,2^n -1 }$, where $\\omega_{2^n}=\\exp(2\\pi i /2^n)$ is a primitive $2^n$ complex root of unity.\n",
    "\n",
    "We will first show that the operator $QFT_{2^n}$ has a small multiplicative order, namely $QFT_{2^n}^4 = \\mathbb{1}_{2^n}$. To see this, denote $M=[m_{\\ell,\\ell^\\prime}]=\\big( QFT_{2^n} \\big)^2$. We compute the coefficients of $M$ as $m_{\\ell,\\ell^\\prime} = \\sum_{k = 0}^{2^n-1} \\omega_{2^n}^{k(\\ell+\\ell^\\prime)} = \\delta_{\\ell,2^n-\\ell^\\prime}$. This means that $M$ is a permutation matrix  that looks like this: \n",
    "\n",
    "$$M=\\left[ \\begin{array}{cccc} 1 & 0 & \\cdots & 0 \\\\ 0 & 0 & \\cdots & 1 \\\\ \\vdots & & \\ddots & \\\\ 0 & 1 & & 0 \\end{array}\\right]$$\n",
    "\n",
    "Note that $M$ is an involution, i.e., $M^2=\\mathbb{1}_{2^n}$, which means that $QFT_{2^n}^4=\\mathbb{1}_{2^n}$. Therefore, for a given positive power $P$, we only have to compute the residue $p = P \\; {\\rm mod} \\; 4$ and apply $QFT_{2^n}^p$. "
   ]
  },
  {
   "cell_type": "code",
   "execution_count": 19,
   "metadata": {},
   "outputs": [
    {
     "data": {
      "application/x-qsharp-data": "\"Success!\"",
      "text/plain": [
       "Success!"
      ]
     },
     "execution_count": 19,
     "metadata": {},
     "output_type": "execute_result"
    }
   ],
   "source": [
    "%kata T31_QFTPower\n",
    "\n",
    "operation QFTPower (P : Int, inputRegister : Qubit[]) : Unit is Adj+Ctl {\n",
    "    for _ in 1 .. (P % 4) {\n",
    "        QuantumFourierTransform(inputRegister);\n",
    "    }\n",
    "}"
   ]
  },
  {
   "cell_type": "markdown",
   "metadata": {},
   "source": [
    "### Task 3.2. Implement roots of the QFT\n",
    "**Inputs:** \n",
    "\n",
    "  1. A register of $n$ qubits in an arbitrary state.\n",
    "\n",
    "  2. An integer $P$ ($ 2 \\leq P \\leq 8 $).\n",
    "    \n",
    "\n",
    "**Goal:** \n",
    "\n",
    "Transform state $|x\\rangle$ into state $V |x\\rangle$, where $V^{P} = QFT$. In other words, implement a $P^{th}$ root of the $QFT$. You can implement the required unitary up to a global phase.    "
   ]
  },
  {
   "cell_type": "markdown",
   "metadata": {},
   "source": [
    "### Solution (from QFT Workbook)\n",
    "\n",
    "A matrix $A$ having the property $A^\\alpha = B$ with a real $\\alpha$\n",
    "is called an $\\alpha$-th root of $B$ (in general this root is\n",
    "not uniquely determined). In case of the discrete Fourier transform\n",
    "$B=QFT$ we can define an\n",
    "$\\alpha$-th root of $QFT_{2^n}$ via an ansatz\n",
    "\n",
    "\\begin{equation}\n",
    "QFT_{2^n, \\alpha} := a_0(\\alpha) \\cdot \\mathbb{1}_{2^n} + a_1(\\alpha) F_{2^n} + a_2(\\alpha) F_{2^n}^2 +\n",
    "a_3(\\alpha) F_{2^n}^3,\n",
    "\\end{equation}\n",
    "where $F_{2^n}=QFT_{2^n}$, as any function that is defined on the eigenvalue of an operator can be expressed as a Taylor series of the operator. \n",
    "Since the order of $F_{2^n}$ is four (as shown in task 3.1), the series can be re-arranged into the form given above. \n",
    "\n",
    "Explicitly, we find that the coefficients $a_i(\\alpha)$ for $i=0,\\ldots,3$ are given by\n",
    "\n",
    "\\begin{equation}\n",
    "\\begin{array}{l@{,\\;\\;}l}\n",
    "a_0(\\alpha) := \\frac{1}{2} (\\phantom{{-}}1 {+} e^{i \\alpha}) \\cos{\\alpha} \\\\\n",
    "a_1(\\alpha) := \\frac{1}{2} (\\phantom{{-}}1 {-} i e^{i \\alpha})\\sin{\\alpha} \\\\\n",
    "a_2(\\alpha) := \\frac{1}{2} ({-}1 {+} e^{i \\alpha}) \\cos{\\alpha} \\\\\n",
    "a_3(\\alpha) := \\frac{1}{2} ({-}1 {-} i e^{i \\alpha}) \\sin{\\alpha} \\\\\n",
    "\\end{array}\n",
    "\\end{equation}\n",
    "\n",
    "It is possible to show that the one-parameter family\n",
    "$\\{ QFT_{2^n, \\alpha} \\;|\\; \\alpha \\in \\mathbb{R}\\} \\subset {\\mathbb{C}}^{N\\times N}$ has the\n",
    "following properties:\n",
    "\n",
    "1. $QFT_{2^n, \\alpha}$ is a unitary matrix for $\\alpha \\in \\mathbb{R}$.\n",
    "2. $QFT_{2^n, 0} = \\mathbb{1}_{2^n}$ and $QFT_{2^n, \\pi/2} = QFT_{2^n}$. \n",
    "3. $(QFT_{2^n,\\alpha})^{\\pi/(2\\alpha)} = QFT_{2^n}$ for $\\alpha \\in \\mathbb{R}$.\n",
    "\n",
    "We will use property 3 for $\\alpha=\\pi/(2P)$ to obtain a unitary operator $R = QFT_{2^n,\\pi/(2P)}$ such that $R^P = QFT_{2^n}$, i.e., $R$ is the required $P$-th root of the Fourier transform $QFT_{2^n}$. \n",
    "\n",
    "The remaining question is how to find an implementation of $QFT_{2^n, \\alpha}$. To derive a circuit, we note that the additive decomposition above can be used to implement $QFT_{2^n, \\alpha}$ as shown in the circuit below. \n",
    "\n",
    "<img src=\"./images/fractional-qft.PNG\"/>\n",
    "\n",
    "In this circuit there is a circulant matrix $C_\\alpha :=\n",
    "{\\rm circ}(a_0(\\alpha),\\ldots,a_3(\\alpha))$. \n",
    "Recall that a circulant matrix ${\\rm circ}_G(a_0, \\ldots, a_{n-1}) := (a_{j-i \\; {\\rm mod}\\; n})_{i, j=0, \\ldots n-1}$ can be diagonalized by the Fourier transform. In our case, we find that \n",
    "$$C_\\alpha = {\\rm circ}(a_0(\\alpha), \\ldots, a_3(\\alpha)) = QFT_4^{-1} \\cdot\n",
    "{\\rm diag}(1, e^{-i \\alpha}, e^{2 i \\alpha}, e^{-i \\alpha}) \\cdot QFT_4$$.\n",
    "\n",
    "For more information about this decomposition, which is a special case of a linear combinations of unitaries (LCU) method for the case in which the operator has finite order, see [A. Klappenecker and M. Roetteler.  Quantum software reusability](https://arxiv.org/abs/quant-ph/0309121).\n",
    "\n",
    "The cell below implements the helper operation for $C_\\alpha$."
   ]
  },
  {
   "cell_type": "code",
   "execution_count": 20,
   "metadata": {},
   "outputs": [
    {
     "data": {
      "application/x-qsharp-data": "[\"Circ\"]",
      "text/html": [
       "<ul><li>Circ</li></ul>"
      ],
      "text/plain": [
       "Circ"
      ]
     },
     "execution_count": 20,
     "metadata": {},
     "output_type": "execute_result"
    }
   ],
   "source": [
    "operation Circ (qs : LittleEndian, alpha : Double) : Unit is Adj + Ctl {\n",
    "    within {\n",
    "        Adjoint QFTLE(qs);\n",
    "    } apply {\n",
    "        ApplyDiagonalUnitary(\n",
    "            [0.0, -alpha, -2.0 * alpha, alpha],\n",
    "            qs\n",
    "        );\n",
    "    }\n",
    "}"
   ]
  },
  {
   "cell_type": "code",
   "execution_count": 21,
   "metadata": {},
   "outputs": [
    {
     "data": {
      "application/x-qsharp-data": "\"Success!\"",
      "text/plain": [
       "Success!"
      ]
     },
     "execution_count": 21,
     "metadata": {},
     "output_type": "execute_result"
    }
   ],
   "source": [
    "%kata T32_QFTRoot\n",
    "\n",
    "open Microsoft.Quantum.Arithmetic;\n",
    "open Microsoft.Quantum.Convert;\n",
    "open Microsoft.Quantum.Math;\n",
    "\n",
    "operation QFTRoot (P : Int, inputRegister : Qubit[]) : Unit is Adj + Ctl {\n",
    "    use aux = Qubit[2];\n",
    "    let Q = QFT;\n",
    "    let Q2 = OperationPowCA(Q, 2);\n",
    "    within {\n",
    "        ApplyToEachCA(H, aux);\n",
    "        Controlled Adjoint Q([aux[0]], BigEndian(inputRegister));\n",
    "        Controlled Adjoint Q2([aux[1]], BigEndian(inputRegister));\n",
    "    } apply {\n",
    "        Circ(LittleEndian(aux), PI() / (2.0 * IntAsDouble(P))); \n",
    "    }\n",
    "}"
   ]
  }
 ],
 "metadata": {
  "kernelspec": {
   "display_name": "Q#",
   "language": "qsharp",
   "name": "iqsharp"
  },
  "language_info": {
   "file_extension": ".qs",
   "mimetype": "text/x-qsharp",
   "name": "qsharp",
   "version": "0.14"
  }
 },
 "nbformat": 4,
 "nbformat_minor": 2
}
